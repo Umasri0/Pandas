{
 "cells": [
  {
   "cell_type": "code",
   "execution_count": 1,
   "id": "dcabedc9",
   "metadata": {},
   "outputs": [],
   "source": [
    "import numpy as np\n",
    "import pandas as pd\n",
    "from pandas import Series,DataFrame\n"
   ]
  },
  {
   "cell_type": "code",
   "execution_count": 3,
   "id": "b4645ade",
   "metadata": {},
   "outputs": [],
   "source": [
    "##Index objects\n",
    "\n",
    "\n",
    "my_ser =Series([1,2,3,4],index = ['A','B','C','D'])"
   ]
  },
  {
   "cell_type": "code",
   "execution_count": 4,
   "id": "cd2f207b",
   "metadata": {},
   "outputs": [
    {
     "data": {
      "text/plain": [
       "A    1\n",
       "B    2\n",
       "C    3\n",
       "D    4\n",
       "dtype: int64"
      ]
     },
     "execution_count": 4,
     "metadata": {},
     "output_type": "execute_result"
    }
   ],
   "source": [
    "my_ser"
   ]
  },
  {
   "cell_type": "code",
   "execution_count": 5,
   "id": "730cca65",
   "metadata": {},
   "outputs": [],
   "source": [
    "my_index = my_ser.index"
   ]
  },
  {
   "cell_type": "code",
   "execution_count": 6,
   "id": "cabe8f2e",
   "metadata": {},
   "outputs": [
    {
     "data": {
      "text/plain": [
       "Index(['A', 'B', 'C', 'D'], dtype='object')"
      ]
     },
     "execution_count": 6,
     "metadata": {},
     "output_type": "execute_result"
    }
   ],
   "source": [
    "my_index"
   ]
  },
  {
   "cell_type": "code",
   "execution_count": 7,
   "id": "4fab72ca",
   "metadata": {},
   "outputs": [
    {
     "data": {
      "text/plain": [
       "'C'"
      ]
     },
     "execution_count": 7,
     "metadata": {},
     "output_type": "execute_result"
    }
   ],
   "source": [
    "my_index[2] ##specify index value"
   ]
  },
  {
   "cell_type": "code",
   "execution_count": 8,
   "id": "82443c52",
   "metadata": {},
   "outputs": [
    {
     "data": {
      "text/plain": [
       "'A'"
      ]
     },
     "execution_count": 8,
     "metadata": {},
     "output_type": "execute_result"
    }
   ],
   "source": [
    "my_index[0]"
   ]
  },
  {
   "cell_type": "code",
   "execution_count": 9,
   "id": "5e2e8148",
   "metadata": {},
   "outputs": [
    {
     "data": {
      "text/plain": [
       "'B'"
      ]
     },
     "execution_count": 9,
     "metadata": {},
     "output_type": "execute_result"
    }
   ],
   "source": [
    "my_index[1]"
   ]
  },
  {
   "cell_type": "code",
   "execution_count": 10,
   "id": "f89f5316",
   "metadata": {},
   "outputs": [
    {
     "data": {
      "text/plain": [
       "Index(['C', 'D'], dtype='object')"
      ]
     },
     "execution_count": 10,
     "metadata": {},
     "output_type": "execute_result"
    }
   ],
   "source": [
    "my_index[2:]"
   ]
  },
  {
   "cell_type": "code",
   "execution_count": 12,
   "id": "53466b24",
   "metadata": {},
   "outputs": [
    {
     "ename": "TypeError",
     "evalue": "Index does not support mutable operations",
     "output_type": "error",
     "traceback": [
      "\u001b[1;31m---------------------------------------------------------------------------\u001b[0m",
      "\u001b[1;31mTypeError\u001b[0m                                 Traceback (most recent call last)",
      "\u001b[1;32m~\\AppData\\Local\\Temp/ipykernel_12024/1188905565.py\u001b[0m in \u001b[0;36m<module>\u001b[1;34m\u001b[0m\n\u001b[1;32m----> 1\u001b[1;33m \u001b[0mmy_index\u001b[0m\u001b[1;33m[\u001b[0m\u001b[1;36m0\u001b[0m\u001b[1;33m]\u001b[0m \u001b[1;33m=\u001b[0m \u001b[1;34m'z'\u001b[0m\u001b[1;33m\u001b[0m\u001b[1;33m\u001b[0m\u001b[0m\n\u001b[0m",
      "\u001b[1;32m~\\anaconda3\\lib\\site-packages\\pandas\\core\\indexes\\base.py\u001b[0m in \u001b[0;36m__setitem__\u001b[1;34m(self, key, value)\u001b[0m\n\u001b[0;32m   4583\u001b[0m     \u001b[1;33m@\u001b[0m\u001b[0mfinal\u001b[0m\u001b[1;33m\u001b[0m\u001b[1;33m\u001b[0m\u001b[0m\n\u001b[0;32m   4584\u001b[0m     \u001b[1;32mdef\u001b[0m \u001b[0m__setitem__\u001b[0m\u001b[1;33m(\u001b[0m\u001b[0mself\u001b[0m\u001b[1;33m,\u001b[0m \u001b[0mkey\u001b[0m\u001b[1;33m,\u001b[0m \u001b[0mvalue\u001b[0m\u001b[1;33m)\u001b[0m\u001b[1;33m:\u001b[0m\u001b[1;33m\u001b[0m\u001b[1;33m\u001b[0m\u001b[0m\n\u001b[1;32m-> 4585\u001b[1;33m         \u001b[1;32mraise\u001b[0m \u001b[0mTypeError\u001b[0m\u001b[1;33m(\u001b[0m\u001b[1;34m\"Index does not support mutable operations\"\u001b[0m\u001b[1;33m)\u001b[0m\u001b[1;33m\u001b[0m\u001b[1;33m\u001b[0m\u001b[0m\n\u001b[0m\u001b[0;32m   4586\u001b[0m \u001b[1;33m\u001b[0m\u001b[0m\n\u001b[0;32m   4587\u001b[0m     \u001b[1;32mdef\u001b[0m \u001b[0m__getitem__\u001b[0m\u001b[1;33m(\u001b[0m\u001b[0mself\u001b[0m\u001b[1;33m,\u001b[0m \u001b[0mkey\u001b[0m\u001b[1;33m)\u001b[0m\u001b[1;33m:\u001b[0m\u001b[1;33m\u001b[0m\u001b[1;33m\u001b[0m\u001b[0m\n",
      "\u001b[1;31mTypeError\u001b[0m: Index does not support mutable operations"
     ]
    }
   ],
   "source": [
    "my_index[0] = 'z' ##getting error becoz indexes are immutable(unchangeable)"
   ]
  },
  {
   "cell_type": "code",
   "execution_count": 14,
   "id": "71426e45",
   "metadata": {},
   "outputs": [],
   "source": [
    "##Reindexing\n",
    "\n",
    "\n",
    "from numpy.random import randn\n",
    "\n",
    "\n"
   ]
  },
  {
   "cell_type": "code",
   "execution_count": 15,
   "id": "29a5cfa4",
   "metadata": {},
   "outputs": [],
   "source": [
    "ser1 = Series([1,2,3,4],index = ['A','B','C','D'])"
   ]
  },
  {
   "cell_type": "code",
   "execution_count": 16,
   "id": "1ba81041",
   "metadata": {},
   "outputs": [
    {
     "data": {
      "text/plain": [
       "A    1\n",
       "B    2\n",
       "C    3\n",
       "D    4\n",
       "dtype: int64"
      ]
     },
     "execution_count": 16,
     "metadata": {},
     "output_type": "execute_result"
    }
   ],
   "source": [
    "ser1"
   ]
  },
  {
   "cell_type": "code",
   "execution_count": 17,
   "id": "18832ba7",
   "metadata": {},
   "outputs": [],
   "source": [
    "ser2 = ser1.reindex(['A','B','C','D','E','F'])"
   ]
  },
  {
   "cell_type": "code",
   "execution_count": 18,
   "id": "9a60805f",
   "metadata": {},
   "outputs": [
    {
     "data": {
      "text/plain": [
       "A    1.0\n",
       "B    2.0\n",
       "C    3.0\n",
       "D    4.0\n",
       "E    NaN\n",
       "F    NaN\n",
       "dtype: float64"
      ]
     },
     "execution_count": 18,
     "metadata": {},
     "output_type": "execute_result"
    }
   ],
   "source": [
    "ser2  ##for E and F it shows null values"
   ]
  },
  {
   "cell_type": "code",
   "execution_count": 19,
   "id": "64554d68",
   "metadata": {},
   "outputs": [
    {
     "data": {
      "text/plain": [
       "A     1.0\n",
       "BC    0.0\n",
       "D     4.0\n",
       "E     NaN\n",
       "F     NaN\n",
       "G     0.0\n",
       "dtype: float64"
      ]
     },
     "execution_count": 19,
     "metadata": {},
     "output_type": "execute_result"
    }
   ],
   "source": [
    "ser2.reindex(['A','B''C','D','E','F','G'],fill_value =0) ##As new index is added up the value would be 0 as per the condition"
   ]
  },
  {
   "cell_type": "code",
   "execution_count": 20,
   "id": "068e2995",
   "metadata": {},
   "outputs": [],
   "source": [
    "ser3 = Series(['USA','Mexcio','Canda'],index=[0,5,10])"
   ]
  },
  {
   "cell_type": "code",
   "execution_count": 21,
   "id": "083dba12",
   "metadata": {},
   "outputs": [
    {
     "data": {
      "text/plain": [
       "0        USA\n",
       "5     Mexcio\n",
       "10     Canda\n",
       "dtype: object"
      ]
     },
     "execution_count": 21,
     "metadata": {},
     "output_type": "execute_result"
    }
   ],
   "source": [
    "ser3"
   ]
  },
  {
   "cell_type": "code",
   "execution_count": 22,
   "id": "2759c485",
   "metadata": {},
   "outputs": [],
   "source": [
    "ranger = range(15)"
   ]
  },
  {
   "cell_type": "code",
   "execution_count": 23,
   "id": "8e1fa4cf",
   "metadata": {},
   "outputs": [
    {
     "data": {
      "text/plain": [
       "range(0, 15)"
      ]
     },
     "execution_count": 23,
     "metadata": {},
     "output_type": "execute_result"
    }
   ],
   "source": [
    "ranger"
   ]
  },
  {
   "cell_type": "code",
   "execution_count": 24,
   "id": "d76c0b84",
   "metadata": {},
   "outputs": [
    {
     "data": {
      "text/plain": [
       "0        USA\n",
       "1        USA\n",
       "2        USA\n",
       "3        USA\n",
       "4        USA\n",
       "5     Mexcio\n",
       "6     Mexcio\n",
       "7     Mexcio\n",
       "8     Mexcio\n",
       "9     Mexcio\n",
       "10     Canda\n",
       "11     Canda\n",
       "12     Canda\n",
       "13     Canda\n",
       "14     Canda\n",
       "dtype: object"
      ]
     },
     "execution_count": 24,
     "metadata": {},
     "output_type": "execute_result"
    }
   ],
   "source": [
    "ser3.reindex(ranger,method = 'ffill')  #forward fill"
   ]
  },
  {
   "cell_type": "code",
   "execution_count": 32,
   "id": "b27a8993",
   "metadata": {},
   "outputs": [],
   "source": [
    "##creating a dataframe\n",
    "\n",
    "DataFrame =DataFrame(randn(25).reshape(5,5),index=['A','B','D','E','F'],columns = ['col1','col2','col3','col4','col5'])"
   ]
  },
  {
   "cell_type": "code",
   "execution_count": 33,
   "id": "c5246426",
   "metadata": {},
   "outputs": [
    {
     "data": {
      "text/html": [
       "<div>\n",
       "<style scoped>\n",
       "    .dataframe tbody tr th:only-of-type {\n",
       "        vertical-align: middle;\n",
       "    }\n",
       "\n",
       "    .dataframe tbody tr th {\n",
       "        vertical-align: top;\n",
       "    }\n",
       "\n",
       "    .dataframe thead th {\n",
       "        text-align: right;\n",
       "    }\n",
       "</style>\n",
       "<table border=\"1\" class=\"dataframe\">\n",
       "  <thead>\n",
       "    <tr style=\"text-align: right;\">\n",
       "      <th></th>\n",
       "      <th>col1</th>\n",
       "      <th>col2</th>\n",
       "      <th>col3</th>\n",
       "      <th>col4</th>\n",
       "      <th>col5</th>\n",
       "    </tr>\n",
       "  </thead>\n",
       "  <tbody>\n",
       "    <tr>\n",
       "      <th>A</th>\n",
       "      <td>-1.025191</td>\n",
       "      <td>-0.861356</td>\n",
       "      <td>-0.136231</td>\n",
       "      <td>-0.394966</td>\n",
       "      <td>-0.235532</td>\n",
       "    </tr>\n",
       "    <tr>\n",
       "      <th>B</th>\n",
       "      <td>0.641077</td>\n",
       "      <td>-0.040753</td>\n",
       "      <td>-0.166997</td>\n",
       "      <td>0.555816</td>\n",
       "      <td>0.926497</td>\n",
       "    </tr>\n",
       "    <tr>\n",
       "      <th>D</th>\n",
       "      <td>0.377834</td>\n",
       "      <td>-0.036199</td>\n",
       "      <td>1.885224</td>\n",
       "      <td>0.605976</td>\n",
       "      <td>-1.218868</td>\n",
       "    </tr>\n",
       "    <tr>\n",
       "      <th>E</th>\n",
       "      <td>-0.426924</td>\n",
       "      <td>-1.452273</td>\n",
       "      <td>0.457209</td>\n",
       "      <td>2.197109</td>\n",
       "      <td>-0.192669</td>\n",
       "    </tr>\n",
       "    <tr>\n",
       "      <th>F</th>\n",
       "      <td>-1.371112</td>\n",
       "      <td>-0.651798</td>\n",
       "      <td>0.604858</td>\n",
       "      <td>0.240674</td>\n",
       "      <td>0.244491</td>\n",
       "    </tr>\n",
       "  </tbody>\n",
       "</table>\n",
       "</div>"
      ],
      "text/plain": [
       "       col1      col2      col3      col4      col5\n",
       "A -1.025191 -0.861356 -0.136231 -0.394966 -0.235532\n",
       "B  0.641077 -0.040753 -0.166997  0.555816  0.926497\n",
       "D  0.377834 -0.036199  1.885224  0.605976 -1.218868\n",
       "E -0.426924 -1.452273  0.457209  2.197109 -0.192669\n",
       "F -1.371112 -0.651798  0.604858  0.240674  0.244491"
      ]
     },
     "execution_count": 33,
     "metadata": {},
     "output_type": "execute_result"
    }
   ],
   "source": [
    "DataFrame"
   ]
  },
  {
   "cell_type": "code",
   "execution_count": 34,
   "id": "f7583c72",
   "metadata": {},
   "outputs": [],
   "source": [
    "DataFrame2 = DataFrame.reindex(['A','B','C','D','E','F'])"
   ]
  },
  {
   "cell_type": "code",
   "execution_count": 35,
   "id": "224478e1",
   "metadata": {},
   "outputs": [
    {
     "data": {
      "text/html": [
       "<div>\n",
       "<style scoped>\n",
       "    .dataframe tbody tr th:only-of-type {\n",
       "        vertical-align: middle;\n",
       "    }\n",
       "\n",
       "    .dataframe tbody tr th {\n",
       "        vertical-align: top;\n",
       "    }\n",
       "\n",
       "    .dataframe thead th {\n",
       "        text-align: right;\n",
       "    }\n",
       "</style>\n",
       "<table border=\"1\" class=\"dataframe\">\n",
       "  <thead>\n",
       "    <tr style=\"text-align: right;\">\n",
       "      <th></th>\n",
       "      <th>col1</th>\n",
       "      <th>col2</th>\n",
       "      <th>col3</th>\n",
       "      <th>col4</th>\n",
       "      <th>col5</th>\n",
       "    </tr>\n",
       "  </thead>\n",
       "  <tbody>\n",
       "    <tr>\n",
       "      <th>A</th>\n",
       "      <td>-1.025191</td>\n",
       "      <td>-0.861356</td>\n",
       "      <td>-0.136231</td>\n",
       "      <td>-0.394966</td>\n",
       "      <td>-0.235532</td>\n",
       "    </tr>\n",
       "    <tr>\n",
       "      <th>B</th>\n",
       "      <td>0.641077</td>\n",
       "      <td>-0.040753</td>\n",
       "      <td>-0.166997</td>\n",
       "      <td>0.555816</td>\n",
       "      <td>0.926497</td>\n",
       "    </tr>\n",
       "    <tr>\n",
       "      <th>C</th>\n",
       "      <td>NaN</td>\n",
       "      <td>NaN</td>\n",
       "      <td>NaN</td>\n",
       "      <td>NaN</td>\n",
       "      <td>NaN</td>\n",
       "    </tr>\n",
       "    <tr>\n",
       "      <th>D</th>\n",
       "      <td>0.377834</td>\n",
       "      <td>-0.036199</td>\n",
       "      <td>1.885224</td>\n",
       "      <td>0.605976</td>\n",
       "      <td>-1.218868</td>\n",
       "    </tr>\n",
       "    <tr>\n",
       "      <th>E</th>\n",
       "      <td>-0.426924</td>\n",
       "      <td>-1.452273</td>\n",
       "      <td>0.457209</td>\n",
       "      <td>2.197109</td>\n",
       "      <td>-0.192669</td>\n",
       "    </tr>\n",
       "    <tr>\n",
       "      <th>F</th>\n",
       "      <td>-1.371112</td>\n",
       "      <td>-0.651798</td>\n",
       "      <td>0.604858</td>\n",
       "      <td>0.240674</td>\n",
       "      <td>0.244491</td>\n",
       "    </tr>\n",
       "  </tbody>\n",
       "</table>\n",
       "</div>"
      ],
      "text/plain": [
       "       col1      col2      col3      col4      col5\n",
       "A -1.025191 -0.861356 -0.136231 -0.394966 -0.235532\n",
       "B  0.641077 -0.040753 -0.166997  0.555816  0.926497\n",
       "C       NaN       NaN       NaN       NaN       NaN\n",
       "D  0.377834 -0.036199  1.885224  0.605976 -1.218868\n",
       "E -0.426924 -1.452273  0.457209  2.197109 -0.192669\n",
       "F -1.371112 -0.651798  0.604858  0.240674  0.244491"
      ]
     },
     "execution_count": 35,
     "metadata": {},
     "output_type": "execute_result"
    }
   ],
   "source": [
    "DataFrame2  ##index C has null values"
   ]
  },
  {
   "cell_type": "code",
   "execution_count": 36,
   "id": "0e74d671",
   "metadata": {},
   "outputs": [],
   "source": [
    "new_columns  = ['col1','col2','col3','col4','col5','col6']"
   ]
  },
  {
   "cell_type": "code",
   "execution_count": 37,
   "id": "e0018ec1",
   "metadata": {},
   "outputs": [
    {
     "data": {
      "text/html": [
       "<div>\n",
       "<style scoped>\n",
       "    .dataframe tbody tr th:only-of-type {\n",
       "        vertical-align: middle;\n",
       "    }\n",
       "\n",
       "    .dataframe tbody tr th {\n",
       "        vertical-align: top;\n",
       "    }\n",
       "\n",
       "    .dataframe thead th {\n",
       "        text-align: right;\n",
       "    }\n",
       "</style>\n",
       "<table border=\"1\" class=\"dataframe\">\n",
       "  <thead>\n",
       "    <tr style=\"text-align: right;\">\n",
       "      <th></th>\n",
       "      <th>col1</th>\n",
       "      <th>col2</th>\n",
       "      <th>col3</th>\n",
       "      <th>col4</th>\n",
       "      <th>col5</th>\n",
       "      <th>col6</th>\n",
       "    </tr>\n",
       "  </thead>\n",
       "  <tbody>\n",
       "    <tr>\n",
       "      <th>A</th>\n",
       "      <td>-1.025191</td>\n",
       "      <td>-0.861356</td>\n",
       "      <td>-0.136231</td>\n",
       "      <td>-0.394966</td>\n",
       "      <td>-0.235532</td>\n",
       "      <td>NaN</td>\n",
       "    </tr>\n",
       "    <tr>\n",
       "      <th>B</th>\n",
       "      <td>0.641077</td>\n",
       "      <td>-0.040753</td>\n",
       "      <td>-0.166997</td>\n",
       "      <td>0.555816</td>\n",
       "      <td>0.926497</td>\n",
       "      <td>NaN</td>\n",
       "    </tr>\n",
       "    <tr>\n",
       "      <th>C</th>\n",
       "      <td>NaN</td>\n",
       "      <td>NaN</td>\n",
       "      <td>NaN</td>\n",
       "      <td>NaN</td>\n",
       "      <td>NaN</td>\n",
       "      <td>NaN</td>\n",
       "    </tr>\n",
       "    <tr>\n",
       "      <th>D</th>\n",
       "      <td>0.377834</td>\n",
       "      <td>-0.036199</td>\n",
       "      <td>1.885224</td>\n",
       "      <td>0.605976</td>\n",
       "      <td>-1.218868</td>\n",
       "      <td>NaN</td>\n",
       "    </tr>\n",
       "    <tr>\n",
       "      <th>E</th>\n",
       "      <td>-0.426924</td>\n",
       "      <td>-1.452273</td>\n",
       "      <td>0.457209</td>\n",
       "      <td>2.197109</td>\n",
       "      <td>-0.192669</td>\n",
       "      <td>NaN</td>\n",
       "    </tr>\n",
       "    <tr>\n",
       "      <th>F</th>\n",
       "      <td>-1.371112</td>\n",
       "      <td>-0.651798</td>\n",
       "      <td>0.604858</td>\n",
       "      <td>0.240674</td>\n",
       "      <td>0.244491</td>\n",
       "      <td>NaN</td>\n",
       "    </tr>\n",
       "  </tbody>\n",
       "</table>\n",
       "</div>"
      ],
      "text/plain": [
       "       col1      col2      col3      col4      col5  col6\n",
       "A -1.025191 -0.861356 -0.136231 -0.394966 -0.235532   NaN\n",
       "B  0.641077 -0.040753 -0.166997  0.555816  0.926497   NaN\n",
       "C       NaN       NaN       NaN       NaN       NaN   NaN\n",
       "D  0.377834 -0.036199  1.885224  0.605976 -1.218868   NaN\n",
       "E -0.426924 -1.452273  0.457209  2.197109 -0.192669   NaN\n",
       "F -1.371112 -0.651798  0.604858  0.240674  0.244491   NaN"
      ]
     },
     "execution_count": 37,
     "metadata": {},
     "output_type": "execute_result"
    }
   ],
   "source": [
    "DataFrame2.reindex(columns = new_columns)    ##col6 has null values"
   ]
  },
  {
   "cell_type": "code",
   "execution_count": 39,
   "id": "9b6f4200",
   "metadata": {},
   "outputs": [
    {
     "data": {
      "text/html": [
       "<div>\n",
       "<style scoped>\n",
       "    .dataframe tbody tr th:only-of-type {\n",
       "        vertical-align: middle;\n",
       "    }\n",
       "\n",
       "    .dataframe tbody tr th {\n",
       "        vertical-align: top;\n",
       "    }\n",
       "\n",
       "    .dataframe thead th {\n",
       "        text-align: right;\n",
       "    }\n",
       "</style>\n",
       "<table border=\"1\" class=\"dataframe\">\n",
       "  <thead>\n",
       "    <tr style=\"text-align: right;\">\n",
       "      <th></th>\n",
       "      <th>col1</th>\n",
       "      <th>col2</th>\n",
       "      <th>col3</th>\n",
       "      <th>col4</th>\n",
       "      <th>col5</th>\n",
       "    </tr>\n",
       "  </thead>\n",
       "  <tbody>\n",
       "    <tr>\n",
       "      <th>A</th>\n",
       "      <td>-1.025191</td>\n",
       "      <td>-0.861356</td>\n",
       "      <td>-0.136231</td>\n",
       "      <td>-0.394966</td>\n",
       "      <td>-0.235532</td>\n",
       "    </tr>\n",
       "    <tr>\n",
       "      <th>B</th>\n",
       "      <td>0.641077</td>\n",
       "      <td>-0.040753</td>\n",
       "      <td>-0.166997</td>\n",
       "      <td>0.555816</td>\n",
       "      <td>0.926497</td>\n",
       "    </tr>\n",
       "    <tr>\n",
       "      <th>D</th>\n",
       "      <td>0.377834</td>\n",
       "      <td>-0.036199</td>\n",
       "      <td>1.885224</td>\n",
       "      <td>0.605976</td>\n",
       "      <td>-1.218868</td>\n",
       "    </tr>\n",
       "    <tr>\n",
       "      <th>E</th>\n",
       "      <td>-0.426924</td>\n",
       "      <td>-1.452273</td>\n",
       "      <td>0.457209</td>\n",
       "      <td>2.197109</td>\n",
       "      <td>-0.192669</td>\n",
       "    </tr>\n",
       "    <tr>\n",
       "      <th>F</th>\n",
       "      <td>-1.371112</td>\n",
       "      <td>-0.651798</td>\n",
       "      <td>0.604858</td>\n",
       "      <td>0.240674</td>\n",
       "      <td>0.244491</td>\n",
       "    </tr>\n",
       "  </tbody>\n",
       "</table>\n",
       "</div>"
      ],
      "text/plain": [
       "       col1      col2      col3      col4      col5\n",
       "A -1.025191 -0.861356 -0.136231 -0.394966 -0.235532\n",
       "B  0.641077 -0.040753 -0.166997  0.555816  0.926497\n",
       "D  0.377834 -0.036199  1.885224  0.605976 -1.218868\n",
       "E -0.426924 -1.452273  0.457209  2.197109 -0.192669\n",
       "F -1.371112 -0.651798  0.604858  0.240674  0.244491"
      ]
     },
     "execution_count": 39,
     "metadata": {},
     "output_type": "execute_result"
    }
   ],
   "source": [
    "DataFrame"
   ]
  },
  {
   "cell_type": "code",
   "execution_count": null,
   "id": "df3db0cf",
   "metadata": {},
   "outputs": [],
   "source": []
  }
 ],
 "metadata": {
  "kernelspec": {
   "display_name": "Python 3 (ipykernel)",
   "language": "python",
   "name": "python3"
  },
  "language_info": {
   "codemirror_mode": {
    "name": "ipython",
    "version": 3
   },
   "file_extension": ".py",
   "mimetype": "text/x-python",
   "name": "python",
   "nbconvert_exporter": "python",
   "pygments_lexer": "ipython3",
   "version": "3.9.7"
  }
 },
 "nbformat": 4,
 "nbformat_minor": 5
}
