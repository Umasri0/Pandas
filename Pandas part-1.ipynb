{
 "cells": [
  {
   "cell_type": "code",
   "execution_count": 2,
   "id": "57dba1ca",
   "metadata": {},
   "outputs": [],
   "source": [
    "import numpy as np\n",
    "import pandas as pd\n",
    "from pandas import Series,DataFrame"
   ]
  },
  {
   "cell_type": "code",
   "execution_count": 3,
   "id": "5b8924aa",
   "metadata": {},
   "outputs": [
    {
     "data": {
      "text/plain": [
       "0     3\n",
       "1     6\n",
       "2     9\n",
       "3    12\n",
       "dtype: int64"
      ]
     },
     "execution_count": 3,
     "metadata": {},
     "output_type": "execute_result"
    }
   ],
   "source": [
    "##Series\n",
    "\n",
    "\n",
    "obj = Series([3,6,9,12])\n",
    "obj"
   ]
  },
  {
   "cell_type": "code",
   "execution_count": 4,
   "id": "da9f67aa",
   "metadata": {},
   "outputs": [
    {
     "data": {
      "text/plain": [
       "array([ 3,  6,  9, 12], dtype=int64)"
      ]
     },
     "execution_count": 4,
     "metadata": {},
     "output_type": "execute_result"
    }
   ],
   "source": [
    "obj.values"
   ]
  },
  {
   "cell_type": "code",
   "execution_count": 5,
   "id": "8a3dca65",
   "metadata": {},
   "outputs": [
    {
     "data": {
      "text/plain": [
       "RangeIndex(start=0, stop=4, step=1)"
      ]
     },
     "execution_count": 5,
     "metadata": {},
     "output_type": "execute_result"
    }
   ],
   "source": [
    "obj.index"
   ]
  },
  {
   "cell_type": "code",
   "execution_count": 9,
   "id": "f3d95980",
   "metadata": {},
   "outputs": [],
   "source": [
    "ww2_cas = Series([8700000,4300000,3000000,2100000,4000000],index=['USSR','Germany','china','USA','Japan'])"
   ]
  },
  {
   "cell_type": "code",
   "execution_count": 10,
   "id": "fdbcd4bf",
   "metadata": {},
   "outputs": [
    {
     "data": {
      "text/plain": [
       "USSR       8700000\n",
       "Germany    4300000\n",
       "china      3000000\n",
       "USA        2100000\n",
       "Japan      4000000\n",
       "dtype: int64"
      ]
     },
     "execution_count": 10,
     "metadata": {},
     "output_type": "execute_result"
    }
   ],
   "source": [
    "ww2_cas"
   ]
  },
  {
   "cell_type": "code",
   "execution_count": 11,
   "id": "19b0576b",
   "metadata": {},
   "outputs": [
    {
     "data": {
      "text/plain": [
       "2100000"
      ]
     },
     "execution_count": 11,
     "metadata": {},
     "output_type": "execute_result"
    }
   ],
   "source": [
    "ww2_cas['USA']"
   ]
  },
  {
   "cell_type": "code",
   "execution_count": 12,
   "id": "f66ae972",
   "metadata": {},
   "outputs": [
    {
     "data": {
      "text/plain": [
       "USSR       8700000\n",
       "Germany    4300000\n",
       "dtype: int64"
      ]
     },
     "execution_count": 12,
     "metadata": {},
     "output_type": "execute_result"
    }
   ],
   "source": [
    "#checking which countries had casualties greater than 4million \n",
    "ww2_cas[ww2_cas>4000000]"
   ]
  },
  {
   "cell_type": "code",
   "execution_count": 13,
   "id": "6e6c1767",
   "metadata": {},
   "outputs": [
    {
     "data": {
      "text/plain": [
       "True"
      ]
     },
     "execution_count": 13,
     "metadata": {},
     "output_type": "execute_result"
    }
   ],
   "source": [
    "'USSR' in ww2_cas   ##boolean"
   ]
  },
  {
   "cell_type": "code",
   "execution_count": 14,
   "id": "9f6291a9",
   "metadata": {},
   "outputs": [],
   "source": [
    "ww2_dict =ww2_cas.to_dict()   ##converting series into dictionary"
   ]
  },
  {
   "cell_type": "code",
   "execution_count": 15,
   "id": "35666760",
   "metadata": {},
   "outputs": [
    {
     "data": {
      "text/plain": [
       "{'USSR': 8700000,\n",
       " 'Germany': 4300000,\n",
       " 'china': 3000000,\n",
       " 'USA': 2100000,\n",
       " 'Japan': 4000000}"
      ]
     },
     "execution_count": 15,
     "metadata": {},
     "output_type": "execute_result"
    }
   ],
   "source": [
    "ww2_dict"
   ]
  },
  {
   "cell_type": "code",
   "execution_count": 16,
   "id": "0209ec19",
   "metadata": {},
   "outputs": [],
   "source": [
    "ww2_series=Series(ww2_dict)  ##converting dictonary to series"
   ]
  },
  {
   "cell_type": "code",
   "execution_count": 17,
   "id": "0842dfab",
   "metadata": {},
   "outputs": [
    {
     "data": {
      "text/plain": [
       "USSR       8700000\n",
       "Germany    4300000\n",
       "china      3000000\n",
       "USA        2100000\n",
       "Japan      4000000\n",
       "dtype: int64"
      ]
     },
     "execution_count": 17,
     "metadata": {},
     "output_type": "execute_result"
    }
   ],
   "source": [
    "ww2_series"
   ]
  },
  {
   "cell_type": "code",
   "execution_count": 19,
   "id": "4106727c",
   "metadata": {},
   "outputs": [],
   "source": [
    "countries = ['china','Germany','Japan','USA','USSR','Argentina']\n"
   ]
  },
  {
   "cell_type": "code",
   "execution_count": 20,
   "id": "4d14fe09",
   "metadata": {},
   "outputs": [],
   "source": [
    "obj2 = Series(ww2_dict,index = countries)"
   ]
  },
  {
   "cell_type": "code",
   "execution_count": 21,
   "id": "10d75d45",
   "metadata": {},
   "outputs": [
    {
     "data": {
      "text/plain": [
       "china        3000000.0\n",
       "Germany      4300000.0\n",
       "Japan        4000000.0\n",
       "USA          2100000.0\n",
       "USSR         8700000.0\n",
       "Argentina          NaN\n",
       "dtype: float64"
      ]
     },
     "execution_count": 21,
     "metadata": {},
     "output_type": "execute_result"
    }
   ],
   "source": [
    "obj2"
   ]
  },
  {
   "cell_type": "code",
   "execution_count": 22,
   "id": "d31e90f9",
   "metadata": {},
   "outputs": [
    {
     "data": {
      "text/plain": [
       "china        False\n",
       "Germany      False\n",
       "Japan        False\n",
       "USA          False\n",
       "USSR         False\n",
       "Argentina     True\n",
       "dtype: bool"
      ]
     },
     "execution_count": 22,
     "metadata": {},
     "output_type": "execute_result"
    }
   ],
   "source": [
    "pd.isnull(obj2) ##Argentina is null"
   ]
  },
  {
   "cell_type": "code",
   "execution_count": 23,
   "id": "8051da01",
   "metadata": {},
   "outputs": [
    {
     "data": {
      "text/plain": [
       "china         True\n",
       "Germany       True\n",
       "Japan         True\n",
       "USA           True\n",
       "USSR          True\n",
       "Argentina    False\n",
       "dtype: bool"
      ]
     },
     "execution_count": 23,
     "metadata": {},
     "output_type": "execute_result"
    }
   ],
   "source": [
    "pd.notnull(obj2)"
   ]
  },
  {
   "cell_type": "code",
   "execution_count": 24,
   "id": "b3d1fe86",
   "metadata": {},
   "outputs": [
    {
     "data": {
      "text/plain": [
       "USSR       8700000\n",
       "Germany    4300000\n",
       "china      3000000\n",
       "USA        2100000\n",
       "Japan      4000000\n",
       "dtype: int64"
      ]
     },
     "execution_count": 24,
     "metadata": {},
     "output_type": "execute_result"
    }
   ],
   "source": [
    "ww2_series"
   ]
  },
  {
   "cell_type": "code",
   "execution_count": 25,
   "id": "88dadf45",
   "metadata": {},
   "outputs": [
    {
     "data": {
      "text/plain": [
       "Argentina           NaN\n",
       "Germany       8600000.0\n",
       "Japan         8000000.0\n",
       "USA           4200000.0\n",
       "USSR         17400000.0\n",
       "china         6000000.0\n",
       "dtype: float64"
      ]
     },
     "execution_count": 25,
     "metadata": {},
     "output_type": "execute_result"
    }
   ],
   "source": [
    "##labelling\n",
    "\n",
    "\n",
    "ww2_series + obj2"
   ]
  },
  {
   "cell_type": "code",
   "execution_count": 26,
   "id": "fa6bea45",
   "metadata": {},
   "outputs": [],
   "source": [
    "obj2.name = \"world war 2 casualities\""
   ]
  },
  {
   "cell_type": "code",
   "execution_count": 27,
   "id": "728d5eac",
   "metadata": {},
   "outputs": [
    {
     "data": {
      "text/plain": [
       "china        3000000.0\n",
       "Germany      4300000.0\n",
       "Japan        4000000.0\n",
       "USA          2100000.0\n",
       "USSR         8700000.0\n",
       "Argentina          NaN\n",
       "Name: world war 2 casualities, dtype: float64"
      ]
     },
     "execution_count": 27,
     "metadata": {},
     "output_type": "execute_result"
    }
   ],
   "source": [
    "obj2"
   ]
  },
  {
   "cell_type": "code",
   "execution_count": 28,
   "id": "03976607",
   "metadata": {},
   "outputs": [],
   "source": [
    "obj2.index.name = 'countries'"
   ]
  },
  {
   "cell_type": "code",
   "execution_count": 29,
   "id": "fd879aab",
   "metadata": {},
   "outputs": [
    {
     "data": {
      "text/plain": [
       "countries\n",
       "china        3000000.0\n",
       "Germany      4300000.0\n",
       "Japan        4000000.0\n",
       "USA          2100000.0\n",
       "USSR         8700000.0\n",
       "Argentina          NaN\n",
       "Name: world war 2 casualities, dtype: float64"
      ]
     },
     "execution_count": 29,
     "metadata": {},
     "output_type": "execute_result"
    }
   ],
   "source": [
    "obj2"
   ]
  },
  {
   "cell_type": "code",
   "execution_count": null,
   "id": "33b33799",
   "metadata": {},
   "outputs": [],
   "source": []
  }
 ],
 "metadata": {
  "kernelspec": {
   "display_name": "Python 3 (ipykernel)",
   "language": "python",
   "name": "python3"
  },
  "language_info": {
   "codemirror_mode": {
    "name": "ipython",
    "version": 3
   },
   "file_extension": ".py",
   "mimetype": "text/x-python",
   "name": "python",
   "nbconvert_exporter": "python",
   "pygments_lexer": "ipython3",
   "version": "3.9.7"
  }
 },
 "nbformat": 4,
 "nbformat_minor": 5
}
